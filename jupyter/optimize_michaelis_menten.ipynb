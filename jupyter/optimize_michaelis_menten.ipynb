{
 "cells": [
  {
   "cell_type": "code",
   "execution_count": 1,
   "metadata": {},
   "outputs": [],
   "source": [
    "import time\n",
    "import csv\n",
    "from json import load\n",
    "from math import ceil\n",
    "import numpy as np\n",
    "import scipy\n",
    "import scipy.optimize as opt\n",
    "from scipy.integrate import solve_ivp\n",
    "import matplotlib.pyplot as plt"
   ]
  },
  {
   "cell_type": "code",
   "execution_count": 2,
   "metadata": {},
   "outputs": [],
   "source": [
    "def MichaelisMenten(t, y, params):\n",
    "    S = params['S_0'] - y\n",
    "    dP_dt = ( (params['k_cat'] * params['E_0']) * S ) / ( params['K_M'] + S )\n",
    "    return dP_dt"
   ]
  },
  {
   "cell_type": "code",
   "execution_count": 3,
   "metadata": {},
   "outputs": [],
   "source": [
    "def solve_MichaelisMenten(params):\n",
    "    # we need to use lambda function if we want to pass some parameters\n",
    "    solution = solve_ivp(lambda t, y: MichaelisMenten(t, y, params), \n",
    "                         t_span = (params['t0'], params['t1']), y0 = params['y0'], \n",
    "                         method='RK45', t_eval=params['t_points'])\n",
    "    y_points = np.asarray(solution.y[0,:])\n",
    "    return params['t_points'], y_points"
   ]
  },
  {
   "cell_type": "code",
   "execution_count": 4,
   "metadata": {},
   "outputs": [],
   "source": [
    "def loss(y_real, y_model):\n",
    "    return np.linalg.norm(y_real - y_model, ord=2) / y_real.shape[0]"
   ]
  },
  {
   "cell_type": "code",
   "execution_count": 5,
   "metadata": {},
   "outputs": [],
   "source": [
    "def objective(x, *args):\n",
    "    params = args[0].copy()\n",
    "    params['k_cat'] = x[0]\n",
    "    params['K_M'] = x[1]\n",
    "    _, y_model = solve_MichaelisMenten(params)\n",
    "    return loss(args[1], y_model)"
   ]
  },
  {
   "cell_type": "code",
   "execution_count": 6,
   "metadata": {},
   "outputs": [],
   "source": [
    "def config2args(config):\n",
    "    args = {}\n",
    "    args['file'] = str(config[\"file_name\"][\"file\"])\n",
    "    args['E_0'] = float(config[\"experiment_details\"][\"E_0\"])\n",
    "    args['S_0'] = float(config[\"experiment_details\"][\"S_0\"])\n",
    "    args['S_1'] = float(config[\"experiment_details\"][\"S_1\"])\n",
    "    args['h'] = float(config[\"experiment_details\"][\"h\"]) / 60.\n",
    "    args['exp_last'] = float(config[\"experiment_details\"][\"exp_last\"])\n",
    "\n",
    "    args['low_K_M'] = float(config[\"abc_details\"][\"low_K_M\"])\n",
    "    args['high_K_M'] = float(config[\"abc_details\"][\"high_K_M\"])\n",
    "    args['low_k_cat'] = float(config[\"abc_details\"][\"low_k_cat\"])\n",
    "    args['high_k_cat'] = float(config[\"abc_details\"][\"high_k_cat\"])\n",
    "\n",
    "    args['N'] = int(config[\"abc_details\"][\"N\"])\n",
    "    args['No_sim'] = int(config[\"abc_details\"][\"No_sim\"])\n",
    "    args['points_prior'] = int(config[\"abc_details\"][\"points_prior\"])\n",
    "\n",
    "    return args\n",
    "\n",
    "def args2params(args, t_points, x0, y0):\n",
    "    params = {}\n",
    "    params['E_0'] = args['E_0']\n",
    "    params['S_0'] = args['S_0']\n",
    "\n",
    "    params['k_cat'] = x0[0]\n",
    "    params['K_M'] = x0[1]\n",
    "    \n",
    "    params['t0'] = t_points[0]\n",
    "    params['t1'] = t_points[-1] + 1.\n",
    "    params['y0'] = y0\n",
    "    params['t_points'] = t_points\n",
    "\n",
    "    return params"
   ]
  },
  {
   "cell_type": "code",
   "execution_count": 7,
   "metadata": {},
   "outputs": [],
   "source": [
    "def load_data(args, row_value=0):    \n",
    "    file_name = args['file']\n",
    "\n",
    "    # LOAD DATA\n",
    "    with open(file_name, 'rb') as csvfile:\n",
    "        reader = csv.reader(csvfile, delimiter=',')\n",
    "        counter = 0\n",
    "        v = []\n",
    "        for row in reader:\n",
    "            if counter==row_value:\n",
    "                for i in range(len(row)):\n",
    "                    v.append(float(row[i]))\n",
    "                break\n",
    "            counter+= 1\n",
    "\n",
    "    if len(v) == 0:\n",
    "        raise Exception(\"Something wrong with data loading! Please check csv file.\")\n",
    "\n",
    "    # set as numpy array\n",
    "    v = np.asarray(v)\n",
    "\n",
    "    # how long the experiment lasts (max is 15 min)\n",
    "    if args['exp_last'] > 15.:\n",
    "        exp_last = 15.\n",
    "    else:\n",
    "        exp_last = args['exp_last']\n",
    "    \n",
    "    # get data\n",
    "    A = v[0:int(ceil(exp_last/args['h']))]\n",
    "    # repeat data\n",
    "#     P_real = np.repeat(np.expand_dims(np.asarray(A),0), args['N'], axis=0)\n",
    "    P_real = A\n",
    "    # time points\n",
    "#     t_points = np.arange(0, args['h']*P_real.shape[1], args['h'])\n",
    "    t_points = np.arange(0, args['h']*P_real.shape[0], args['h'])\n",
    "\n",
    "    return P_real, t_points"
   ]
  },
  {
   "cell_type": "code",
   "execution_count": 8,
   "metadata": {},
   "outputs": [],
   "source": [
    "json_name = 'hAPN.json'\n",
    "with open(json_name) as f:\n",
    "    config = load(f)\n",
    "args = config2args(config)"
   ]
  },
  {
   "cell_type": "code",
   "execution_count": 9,
   "metadata": {},
   "outputs": [],
   "source": [
    "y_real, t_real = load_data(args, 0)"
   ]
  },
  {
   "cell_type": "code",
   "execution_count": 10,
   "metadata": {},
   "outputs": [],
   "source": [
    "bounds = [(0., 100. * 60.), (0., 200.)]\n",
    "x0 = np.array([np.random.uniform(bounds[0][0], bounds[0][1]), #k_cat\n",
    "              np.random.uniform(bounds[1][0], bounds[1][1])]) #K_M\n",
    "params = args2params(args, t_real, x0=x0, y0=[0.])"
   ]
  },
  {
   "cell_type": "code",
   "execution_count": 11,
   "metadata": {},
   "outputs": [],
   "source": [
    "# res = opt.minimize(objective, x0, args=(params, y_real), method='nelder-mead', options={'xtol': 1e-8, 'disp': False}) # not working...\n",
    "# res = opt.shgo(objective, bounds, args=(params, y_real)) # not working...\n",
    "# res = opt.basinhopping(objective, x0, minimizer_kwargs={'args': (params, y_real)}) seems not working..."
   ]
  },
  {
   "cell_type": "code",
   "execution_count": 19,
   "metadata": {},
   "outputs": [
    {
     "name": "stdout",
     "output_type": "stream",
     "text": [
      "('Powell method: k_cat=', 5.24672490176063, 'K_M=', 68.09866768239804, 'time elapsed=', 0.1072089672088623)\n"
     ]
    }
   ],
   "source": [
    "tic = time.time()\n",
    "res = opt.minimize(objective, x0, args=(params, y_real), method='powell', options={'xtol': 1e-8, 'disp': False}) # OK\n",
    "toc = time.time()\n",
    "params['k_cat'] = res.x[0]\n",
    "params['K_M'] = res.x[1]\n",
    "_, y_powell = solve_MichaelisMenten(params)\n",
    "print('Powell method: k_cat=', params['k_cat']/60., 'K_M=', params['K_M'], 'time elapsed=', toc-tic)"
   ]
  },
  {
   "cell_type": "code",
   "execution_count": 22,
   "metadata": {},
   "outputs": [
    {
     "name": "stdout",
     "output_type": "stream",
     "text": [
      "('Differential evolution: k_cat=', 4.740884681089991, 'K_M=', 23.08779769777945, 'time elapsed=', 0.5943200588226318)\n"
     ]
    }
   ],
   "source": [
    "tic = time.time()\n",
    "res = opt.differential_evolution(objective, bounds, args=(params, y_real)) # OK\n",
    "# res = opt.dual_annealing(objective, bounds, args=(params, y_real)) #OK\n",
    "toc = time.time()\n",
    "params['k_cat'] = res.x[0]\n",
    "params['K_M'] = res.x[1]\n",
    "_, y_de = solve_MichaelisMenten(params)\n",
    "print('Differential evolution: k_cat=', params['k_cat']/60., 'K_M=', params['K_M'], 'time elapsed=', toc-tic)"
   ]
  },
  {
   "cell_type": "code",
   "execution_count": 23,
   "metadata": {},
   "outputs": [
    {
     "name": "stdout",
     "output_type": "stream",
     "text": [
      "('Dual annealing: k_cat=', 6.575710631247952, 'K_M=', 186.4776784768784, 'time elapsed=', 4.166609048843384)\n"
     ]
    }
   ],
   "source": [
    "tic = time.time()\n",
    "res = opt.dual_annealing(objective, bounds, args=(params, y_real)) #OK\n",
    "toc = time.time()\n",
    "params['k_cat'] = res.x[0]\n",
    "params['K_M'] = res.x[1]\n",
    "_, y_annealing = solve_MichaelisMenten(params)\n",
    "print('Dual annealing: k_cat=', params['k_cat']/60., 'K_M=', params['K_M'], 'time elapsed=', toc-tic)"
   ]
  },
  {
   "cell_type": "code",
   "execution_count": 15,
   "metadata": {},
   "outputs": [
    {
     "data": {
      "image/png": "[encoded data removed]",
      "text/plain": [
       "<Figure size 432x288 with 1 Axes>"
      ]
     },
     "metadata": {
      "needs_background": "light"
     },
     "output_type": "display_data"
    }
   ],
   "source": [
    "plt.plot(t_real, y_real, 'b-')\n",
    "plt.plot(t_real, y_powell, 'r-')\n",
    "plt.plot(t_real, y_de, 'g-')\n",
    "plt.plot(t_real, y_annealing, 'c-')\n",
    "plt.show()"
   ]
  },
  {
   "cell_type": "code",
   "execution_count": 16,
   "metadata": {},
   "outputs": [
    {
     "data": {
      "text/plain": [
       "0.002005553145476739"
      ]
     },
     "execution_count": 16,
     "metadata": {},
     "output_type": "execute_result"
    }
   ],
   "source": [
    "loss(y_real, y_powell)"
   ]
  },
  {
   "cell_type": "code",
   "execution_count": 17,
   "metadata": {},
   "outputs": [
    {
     "data": {
      "text/plain": [
       "0.0020017956120302366"
      ]
     },
     "execution_count": 17,
     "metadata": {},
     "output_type": "execute_result"
    }
   ],
   "source": [
    "loss(y_real, y_de)"
   ]
  },
  {
   "cell_type": "code",
   "execution_count": 18,
   "metadata": {},
   "outputs": [
    {
     "data": {
      "text/plain": [
       "0.0020046511531052126"
      ]
     },
     "execution_count": 18,
     "metadata": {},
     "output_type": "execute_result"
    }
   ],
   "source": [
    "loss(y_real, y_annealing)"
   ]
  }
 ],
 "metadata": {
  "kernelspec": {
   "display_name": "Python 2",
   "language": "python",
   "name": "python2"
  },
  "language_info": {
   "codemirror_mode": {
    "name": "ipython",
    "version": 2
   },
   "file_extension": ".py",
   "mimetype": "text/x-python",
   "name": "python",
   "nbconvert_exporter": "python",
   "pygments_lexer": "ipython2",
   "version": "2.7.16"
  }
 },
 "nbformat": 4,
 "nbformat_minor": 2
}
