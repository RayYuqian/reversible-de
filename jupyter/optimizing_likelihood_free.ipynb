{
 "cells": [
  {
   "cell_type": "code",
   "execution_count": 304,
   "metadata": {},
   "outputs": [],
   "source": [
    "import time\n",
    "import numpy as np\n",
    "import scipy\n",
    "import scipy.optimize as opt\n",
    "from scipy.integrate import solve_ivp\n",
    "import matplotlib.pyplot as plt"
   ]
  },
  {
   "cell_type": "code",
   "execution_count": 85,
   "metadata": {},
   "outputs": [],
   "source": [
    "def MichaelisMenten(t, y, params):\n",
    "    S = params['S_0'] - y\n",
    "    dP_dt = ( (params['k_cat'] * params['E_0']) * S ) / ( params['K_M'] + S )\n",
    "    return dP_dt"
   ]
  },
  {
   "cell_type": "code",
   "execution_count": 86,
   "metadata": {},
   "outputs": [],
   "source": [
    "def solve_MichaelisMenten(params):\n",
    "    # we need to use lambda function if we want to pass some parameters\n",
    "    solution = solve_ivp(lambda t, y: MichaelisMenten(t, y, params), \n",
    "                         t_span = (params['t0'], params['t1']), y0 = params['y0'], \n",
    "                         method='RK45', t_eval=params['t_points'])\n",
    "    y_points = np.asarray(solution.y[0,:])\n",
    "    return params['t_points'], y_points"
   ]
  },
  {
   "cell_type": "code",
   "execution_count": 87,
   "metadata": {},
   "outputs": [],
   "source": [
    "real_params = {'k_cat': 5.5, 'K_M': 10., 'E_0': 0.05, 'S_0': 100., \n",
    "          'y0': [0.0], 't0': 0., 't1': 900., 't_points': np.linspace(0., 900., 113)}"
   ]
  },
  {
   "cell_type": "code",
   "execution_count": 88,
   "metadata": {},
   "outputs": [],
   "source": [
    "t_real, y_real = solve_MichaelisMenten(real_params)"
   ]
  },
  {
   "cell_type": "code",
   "execution_count": 89,
   "metadata": {},
   "outputs": [
    {
     "data": {
      "image/png": "[encoded data removed]",
      "text/plain": [
       "<Figure size 432x288 with 1 Axes>"
      ]
     },
     "metadata": {
      "needs_background": "light"
     },
     "output_type": "display_data"
    }
   ],
   "source": [
    "plt.plot(t_points, y_points)\n",
    "plt.show()"
   ]
  },
  {
   "cell_type": "code",
   "execution_count": 256,
   "metadata": {},
   "outputs": [],
   "source": [
    "def objective(y_real, y_model):\n",
    "    return np.linalg.norm(y_real - y_model, ord=2) / y_real.shape[0]\n",
    "#     y_max = max(y_real)\n",
    "#     y_min = abs(min(y_real))\n",
    "#     # normalize\n",
    "#     y_real = (y_real - y_min)/(y_max - y_min)\n",
    "#     y_model = (y_model - y_min)/(y_max - y_min)\n",
    "#     return np.linalg.norm(y_real - y_model, ord=2) / y_real.shape[0] #divide by the number of elements"
   ]
  },
  {
   "cell_type": "code",
   "execution_count": 282,
   "metadata": {},
   "outputs": [],
   "source": [
    "bounds = [(0., 100.), (0., 200.)]\n",
    "x0 = np.array([np.random.uniform(bounds[0][0], bounds[0][1]), #k_cat\n",
    "              np.random.uniform(bounds[1][0], bounds[1][1])]) #K_M"
   ]
  },
  {
   "cell_type": "code",
   "execution_count": 283,
   "metadata": {},
   "outputs": [],
   "source": [
    "def fun(x, *args):\n",
    "    params = args[0].copy()\n",
    "    params['k_cat'] = x[0]\n",
    "    params['K_M'] = x[1]\n",
    "    _, y_model = solve_MichaelisMenten(params)\n",
    "    return objective(args[1], y_model)\n"
   ]
  },
  {
   "cell_type": "code",
   "execution_count": 284,
   "metadata": {},
   "outputs": [
    {
     "data": {
      "text/plain": [
       "3.1857372411170033"
      ]
     },
     "execution_count": 284,
     "metadata": {},
     "output_type": "execute_result"
    }
   ],
   "source": [
    "fun(x0, real_params, y_real)"
   ]
  },
  {
   "cell_type": "code",
   "execution_count": 285,
   "metadata": {},
   "outputs": [
    {
     "data": {
      "text/plain": [
       "array([90.01023446, 70.11494201])"
      ]
     },
     "execution_count": 285,
     "metadata": {},
     "output_type": "execute_result"
    }
   ],
   "source": [
    "x0"
   ]
  },
  {
   "cell_type": "code",
   "execution_count": 305,
   "metadata": {},
   "outputs": [
    {
     "name": "stdout",
     "output_type": "stream",
     "text": [
      "(array([ 5.5, 10. ]), 0.5039629936218262)\n"
     ]
    }
   ],
   "source": [
    "tic = time.time()\n",
    "res = opt.minimize(fun, x0, args=(real_params, y_real), method='nelder-mead', options={'xtol': 1e-8, 'disp': False})\n",
    "toc = time.time()\n",
    "print(res.x, toc-tic)"
   ]
  },
  {
   "cell_type": "code",
   "execution_count": 306,
   "metadata": {},
   "outputs": [
    {
     "name": "stdout",
     "output_type": "stream",
     "text": [
      "(array([ 5.5, 10. ]), 1.5187880992889404)\n"
     ]
    }
   ],
   "source": [
    "tic = time.time()\n",
    "res = opt.minimize(fun, x0, args=(real_params, y_real), method='powell', options={'xtol': 1e-8, 'disp': False})\n",
    "toc = time.time()\n",
    "print(res.x, toc-tic)"
   ]
  },
  {
   "cell_type": "code",
   "execution_count": 307,
   "metadata": {},
   "outputs": [
    {
     "name": "stdout",
     "output_type": "stream",
     "text": [
      "(array([ 5.5, 10. ]), 12.346328020095825)\n"
     ]
    }
   ],
   "source": [
    "tic = time.time()\n",
    "res = opt.differential_evolution(fun, bounds, args=args)\n",
    "toc = time.time()\n",
    "print(res.x, toc-tic)"
   ]
  },
  {
   "cell_type": "code",
   "execution_count": 308,
   "metadata": {},
   "outputs": [
    {
     "name": "stdout",
     "output_type": "stream",
     "text": [
      "(array([ 5.5       , 10.00000002]), 108.61724710464478)\n"
     ]
    }
   ],
   "source": [
    "tic = time.time()\n",
    "res = opt.basinhopping(fun, x0, minimizer_kwargs={'args': args})\n",
    "toc = time.time()\n",
    "print(res.x, toc-tic)"
   ]
  },
  {
   "cell_type": "code",
   "execution_count": 309,
   "metadata": {},
   "outputs": [
    {
     "name": "stdout",
     "output_type": "stream",
     "text": [
      "(array([5.49999996, 9.9999996 ]), 19.70460295677185)\n"
     ]
    }
   ],
   "source": [
    "tic = time.time()\n",
    "res = opt.dual_annealing(fun, bounds, args=args)\n",
    "toc = time.time()\n",
    "print(res.x, toc-tic)"
   ]
  },
  {
   "cell_type": "code",
   "execution_count": 310,
   "metadata": {},
   "outputs": [
    {
     "name": "stdout",
     "output_type": "stream",
     "text": [
      "(array([5.49999999, 9.99999993]), 0.6706478595733643)\n"
     ]
    }
   ],
   "source": [
    "tic = time.time()\n",
    "res = opt.shgo(fun, bounds, args=args)\n",
    "toc = time.time()\n",
    "print(res.x, toc-tic)"
   ]
  },
  {
   "cell_type": "code",
   "execution_count": null,
   "metadata": {},
   "outputs": [],
   "source": []
  }
 ],
 "metadata": {
  "kernelspec": {
   "display_name": "Python 3",
   "language": "python",
   "name": "python3"
  },
  "language_info": {
   "codemirror_mode": {
    "name": "ipython",
    "version": 3
   },
   "file_extension": ".py",
   "mimetype": "text/x-python",
   "name": "python",
   "nbconvert_exporter": "python",
   "pygments_lexer": "ipython3",
   "version": "3.7.4"
  }
 },
 "nbformat": 4,
 "nbformat_minor": 2
}
