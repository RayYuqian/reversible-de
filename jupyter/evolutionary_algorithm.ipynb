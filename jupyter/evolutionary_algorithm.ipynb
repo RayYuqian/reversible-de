{
 "cells": [
  {
   "cell_type": "code",
   "execution_count": 5,
   "metadata": {},
   "outputs": [],
   "source": [
    "import numpy as np"
   ]
  },
  {
   "cell_type": "code",
   "execution_count": 6,
   "metadata": {},
   "outputs": [],
   "source": [
    "def bernoulli(p, shape):\n",
    "    return np.random.binomial(1, p, shape)"
   ]
  },
  {
   "cell_type": "code",
   "execution_count": 7,
   "metadata": {},
   "outputs": [],
   "source": [
    "#general idea: if probability is set to None, then using an operator is random (we sample uniformly prob)\n",
    "# but if we set prob to 0, then the operator is not used"
   ]
  },
  {
   "cell_type": "code",
   "execution_count": 253,
   "metadata": {},
   "outputs": [],
   "source": [
    "class Recombination(object):\n",
    "    def __init__(self, type='uniform', prob=None, num_cutting_points=0):\n",
    "        assert type in ['k-points', 'uniform']\n",
    "        self.type = type\n",
    "        \n",
    "        if prob is not None:\n",
    "            assert (prob >= 0) and (prob <= 1), 'Probability must be in [0, 1]!'\n",
    "        self.prob = prob  #what is the probability of applying recombination (the lower it is, the lower chance it's applied)\n",
    "        \n",
    "        if type in ['k-points']:\n",
    "            assert num_cutting_points > 0, 'There must be at least 1 cutting point!'\n",
    "        self.num_cutting_points = num_cutting_points\n",
    "        \n",
    "    def recombine(self, x):\n",
    "        # pick which points to recombine\n",
    "        if self.prob is None:\n",
    "            b = bernoulli(np.random.rand(1), (x.shape[0],))\n",
    "        else:\n",
    "            b = bernoulli(self.prob, (x.shape[0],))\n",
    "        \n",
    "        if np.sum(b) > 0:\n",
    "            x_remain = x[(1. - b).astype(bool)]\n",
    "\n",
    "            # take first parent\n",
    "            parent_1 = x[b.astype(bool)]\n",
    "            # assign second parent (shuffle x for that)\n",
    "            indices = np.arange(parent_1.shape[0])\n",
    "            np.random.shuffle(indices)\n",
    "            parent_2 = parent_1[indices,:]\n",
    "\n",
    "            if self.type == 'uniform':\n",
    "                p = bernoulli(0.5, (1, parent_1.shape[1]))\n",
    "\n",
    "            elif self.type == 'k-points':\n",
    "                if self.num_cutting_points >= parent_1.shape[1]:\n",
    "                    self.num_cutting_points = parent_1.shape[1]-1\n",
    "                \n",
    "                cutting_points = np.random.permutation(np.arange(parent_1.shape[1]))[:self.num_cutting_points]\n",
    "                cutting_points = np.sort(cutting_points)\n",
    "\n",
    "                p = np.zeros((1, parent_1.shape[1]))\n",
    "                if self.num_cutting_points == 1:\n",
    "                    r = 1\n",
    "                else:\n",
    "                    r = 0    \n",
    "                start = 0\n",
    "                for j in cutting_points:\n",
    "                    p[0, start:j] = r\n",
    "                    r = np.mod(r+1,2)\n",
    "                    start = j\n",
    "                \n",
    "            child = p * parent_1 + (1.-p) * parent_2\n",
    "\n",
    "            # return indices of remaining points (in order to avoid re-evaluating fitness for them again!) and children\n",
    "            return (1. - b).astype(bool), child\n",
    "        else:\n",
    "            return (1. - b).astype(bool), None"
   ]
  },
  {
   "cell_type": "code",
   "execution_count": 213,
   "metadata": {},
   "outputs": [],
   "source": [
    "class Mutation(object):\n",
    "    def __init__(self, type='binary', prob=None, std=None):\n",
    "        if prob is not None:\n",
    "            assert (prob >= 0) and (prob <= 1), 'Probability must be in [0, 1]!'\n",
    "        assert type in ['binary', 'gaussian']\n",
    "        if type == 'gaussian':\n",
    "            assert (std is not None) and (std > 0.)\n",
    "        \n",
    "        self.prob = prob #probability of CHANGING a variable\n",
    "        self.type = type\n",
    "        self.std = std\n",
    "    \n",
    "    def mutate(self, x):\n",
    "        x_shape = x.shape\n",
    "        \n",
    "        if self.prob == 0.:\n",
    "            return x\n",
    "        else:\n",
    "            if self.prob is None:\n",
    "                mask = bernoulli(np.random.rand(1), x_shape)\n",
    "            else:\n",
    "                mask = bernoulli(self.prob, x_shape)\n",
    "\n",
    "            if self.type == 'binary':\n",
    "                x = np.mod(x + mask, 2)\n",
    "            elif self.type == 'gaussian':\n",
    "                gauss = np.random.normal(0., self.std, x_shape)\n",
    "                x = x + mask * gauss\n",
    "            return x"
   ]
  },
  {
   "cell_type": "code",
   "execution_count": 358,
   "metadata": {},
   "outputs": [],
   "source": [
    "class Selection(object):\n",
    "    def __init__(self, type='proportional'):\n",
    "        assert type in ['proportional'], 'Wrong type!'\n",
    "        self.type = type\n",
    "    \n",
    "    def select(self, x, f, population_size=1):\n",
    "        assert (population_size > 0) and (population_size < x.shape[0]), 'Too small or too large population size!'\n",
    "        \n",
    "        if self.type == 'proportional':\n",
    "            exp_f = np.exp(f)\n",
    "            probability = exp_f / np.sum(exp_f)\n",
    "            \n",
    "            indices = np.random.choice(x.shape[0], population_size, replace=False, p=probability)\n",
    "            \n",
    "        return x[indices], f[indices]"
   ]
  },
  {
   "cell_type": "code",
   "execution_count": 1,
   "metadata": {},
   "outputs": [],
   "source": [
    "class EA(object):\n",
    "    def __init__(self, fun, args, x_0, add_fun=None, recombination_type='uniform', recombination_prob=0.5, recombination_num_cutting_points=1, mutation_type='gaussian', mutatiob_prob=0.5, selection_type='proportional', population_size=100):\n",
    "        self.recombination = Recombination(recombination_type, recombination_prob, recombination_num_cutting_points)\n",
    "        self.mutation = Mutation(mutation_type, mutatiob_prob)\n",
    "        self.selection = Selection(selection_type)\n",
    "        \n",
    "        self.population_size = population_size\n",
    "        \n",
    "        for i in x_shape:\n",
    "            assert isinstance(i, int), 'Element: %r is not int!' % i\n",
    "        self.x_shape = x_shape\n",
    "        \n",
    "        self.fun = fun\n",
    "        self.add_fun = add_fun\n",
    "        self.args = args\n",
    "    \n",
    "    def fitness(self, x):\n",
    "        if add_fun is None:\n",
    "            return self.fun(x, self.args)\n",
    "        else:\n",
    "            raise Error('Not implemented!')\n",
    "    \n",
    "    def recombination(self, x, f):\n",
    "        if (self.recombination.prob is None) or (self.recombination.prob > 0.):\n",
    "            indices, child = self.recombination.recombine(x)\n",
    "            x_new = x[indices]\n",
    "            f_new = f[indices]\n",
    "\n",
    "            # if there are children, we need to evaluate them\n",
    "            if child is not None:\n",
    "                f_child = np.zeros((child.shape[0],))\n",
    "                for i in range(child.shape[0]):\n",
    "                    f_child[i] = self.fitness(child[i])\n",
    "\n",
    "                x_new = np.concatenate((x_new, child), 0)\n",
    "                f_new = np.concatenate((f_new, f_child), 0)\n",
    "\n",
    "            return x_new, f_new\n",
    "        else:\n",
    "            return x, f\n",
    "    \n",
    "    def mutation(self, x, f):\n",
    "        if (self.recombination.prob is None) or (self.recombination.prob > 0.): \n",
    "            x_new = self.mutation.mutate(x)\n",
    "            #evaluate new fitness\n",
    "            f_new\n",
    "            return x_new, f_new\n",
    "        else:\n",
    "            return x, f\n",
    "    \n",
    "    def selection(self, x, f):\n",
    "        x_new, f_new = selection(x, f, self.population_size)\n",
    "        return x_new, f_new\n",
    "    \n",
    "    def step(self, x, f):\n",
    "        if (self.recombination.prob is None) or (self.recombination.prob > 0):\n",
    "            x, f = self.recombination(x, f)\n",
    "        \n",
    "        if (self.mutation.prob is None) or (self.mutation.prob > 0):\n",
    "            x, f = self.mutation(x, f)\n",
    "        \n",
    "        x, f = self.selection(x, f)\n",
    "    \n",
    "    def run(self):\n",
    "        x = np.random"
   ]
  },
  {
   "cell_type": "code",
   "execution_count": 317,
   "metadata": {},
   "outputs": [],
   "source": [
    "ea = EA()\n",
    "m = Mutation(prob=None, type='gaussian', std=0.1)"
   ]
  },
  {
   "cell_type": "code",
   "execution_count": 318,
   "metadata": {},
   "outputs": [],
   "source": [
    "x = np.random.normal(2.1, 0.4, (4, 5))"
   ]
  },
  {
   "cell_type": "code",
   "execution_count": 319,
   "metadata": {},
   "outputs": [
    {
     "data": {
      "text/plain": [
       "array([[2.90585041, 1.92035371, 1.76917473, 2.53530911, 2.04091883],\n",
       "       [2.79193349, 2.59436172, 2.79726666, 2.51279248, 2.75881388],\n",
       "       [2.21005644, 2.04691787, 1.64914595, 2.23324892, 1.94610381],\n",
       "       [2.7101758 , 2.14634473, 1.73876339, 1.6255571 , 2.89372391]])"
      ]
     },
     "execution_count": 319,
     "metadata": {},
     "output_type": "execute_result"
    }
   ],
   "source": [
    "x"
   ]
  },
  {
   "cell_type": "code",
   "execution_count": 320,
   "metadata": {},
   "outputs": [],
   "source": [
    "r = Recombination(prob=0.7, type='uniform', num_cutting_points=2)"
   ]
  },
  {
   "cell_type": "code",
   "execution_count": 321,
   "metadata": {},
   "outputs": [
    {
     "data": {
      "text/plain": [
       "(array([ True,  True,  True, False]),\n",
       " array([[2.7101758 , 2.14634473, 1.73876339, 1.6255571 , 2.89372391]]))"
      ]
     },
     "execution_count": 321,
     "metadata": {},
     "output_type": "execute_result"
    }
   ],
   "source": [
    "r.recombine(x)"
   ]
  },
  {
   "cell_type": "code",
   "execution_count": 333,
   "metadata": {},
   "outputs": [],
   "source": [
    "f = np.asarray([1.2, 0.1, 1.1, -0.14])"
   ]
  },
  {
   "cell_type": "code",
   "execution_count": 354,
   "metadata": {},
   "outputs": [],
   "source": [
    "s = Selection()"
   ]
  },
  {
   "cell_type": "code",
   "execution_count": 355,
   "metadata": {},
   "outputs": [
    {
     "name": "stdout",
     "output_type": "stream",
     "text": [
      "[0.40007135 0.13317218 0.36199952 0.10475695]\n"
     ]
    }
   ],
   "source": [
    "x_new, f_new = s.select(x, f, 2)"
   ]
  },
  {
   "cell_type": "code",
   "execution_count": 356,
   "metadata": {},
   "outputs": [
    {
     "data": {
      "text/plain": [
       "array([[2.21005644, 2.04691787, 1.64914595, 2.23324892, 1.94610381],\n",
       "       [2.79193349, 2.59436172, 2.79726666, 2.51279248, 2.75881388]])"
      ]
     },
     "execution_count": 356,
     "metadata": {},
     "output_type": "execute_result"
    }
   ],
   "source": [
    "x_new"
   ]
  },
  {
   "cell_type": "code",
   "execution_count": 357,
   "metadata": {},
   "outputs": [
    {
     "data": {
      "text/plain": [
       "array([1.1, 0.1])"
      ]
     },
     "execution_count": 357,
     "metadata": {},
     "output_type": "execute_result"
    }
   ],
   "source": [
    "f_new"
   ]
  },
  {
   "cell_type": "code",
   "execution_count": null,
   "metadata": {},
   "outputs": [],
   "source": []
  }
 ],
 "metadata": {
  "kernelspec": {
   "display_name": "Python 3",
   "language": "python",
   "name": "python3"
  },
  "language_info": {
   "codemirror_mode": {
    "name": "ipython",
    "version": 3
   },
   "file_extension": ".py",
   "mimetype": "text/x-python",
   "name": "python",
   "nbconvert_exporter": "python",
   "pygments_lexer": "ipython3",
   "version": "3.7.4"
  }
 },
 "nbformat": 4,
 "nbformat_minor": 2
}
